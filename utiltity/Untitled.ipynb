{
 "cells": [
  {
   "cell_type": "code",
   "execution_count": 7,
   "id": "7ae4c9e3",
   "metadata": {},
   "outputs": [
    {
     "name": "stdout",
     "output_type": "stream",
     "text": [
      "       user_id product_id size\n",
      "0  sakshamag21   product1    4\n",
      "1  sakshamag21   product1    4\n",
      "2  sakshamag21   product1    4\n",
      "3  sakshamag21   product1    4\n",
      "4  sakshamag21   product1    4\n",
      "5  sakshamag21   product1    4\n"
     ]
    }
   ],
   "source": [
    "import pandas as pd\n",
    "\n",
    "# Given JSON data\n",
    "data = [\n",
    "    {\n",
    "        \"user_id\": \"sakshamag21\",\n",
    "        \"product\": [\n",
    "            {\"product_id\": \"product1\", \"size\": \"4\"},\n",
    "            {\"product_id\": \"product1\", \"size\": \"4\"},\n",
    "            {\"product_id\": \"product1\", \"size\": \"4\"}\n",
    "        ]\n",
    "    },\n",
    "    {\n",
    "        \"user_id\": \"sakshamag21\",\n",
    "        \"product\": [\n",
    "            {\"product_id\": \"product1\", \"size\": \"4\"},\n",
    "            {\"product_id\": \"product1\", \"size\": \"4\"},\n",
    "            {\"product_id\": \"product1\", \"size\": \"4\"}\n",
    "        ]\n",
    "    }\n",
    "]\n",
    "\n",
    "# Convert JSON data to a flat list of dictionaries\n",
    "flat_data = []\n",
    "for entry in data:\n",
    "    user_id = entry[\"user_id\"]\n",
    "    products = entry[\"product\"]\n",
    "    for product in products:\n",
    "        product_id = product[\"product_id\"]\n",
    "        size = product[\"size\"]\n",
    "        flat_data.append({\n",
    "            \"user_id\": user_id,\n",
    "            \"product_id\": product_id,\n",
    "            \"size\": size\n",
    "        })\n",
    "\n",
    "# Create a pandas DataFrame\n",
    "df = pd.DataFrame(flat_data)\n",
    "\n",
    "# Print the DataFrame\n",
    "print(df)\n"
   ]
  },
  {
   "cell_type": "code",
   "execution_count": null,
   "id": "bc784bde",
   "metadata": {},
   "outputs": [],
   "source": [
    "filename = 'nlp_model.pkl'\n",
    "clf = pickle.load(open(filename, 'rb'))\n",
    "vectorizer = pickle.load(open('tranform.pkl','rb'))"
   ]
  }
 ],
 "metadata": {
  "kernelspec": {
   "display_name": "Python 3 (ipykernel)",
   "language": "python",
   "name": "python3"
  },
  "language_info": {
   "codemirror_mode": {
    "name": "ipython",
    "version": 3
   },
   "file_extension": ".py",
   "mimetype": "text/x-python",
   "name": "python",
   "nbconvert_exporter": "python",
   "pygments_lexer": "ipython3",
   "version": "3.9.6"
  }
 },
 "nbformat": 4,
 "nbformat_minor": 5
}
